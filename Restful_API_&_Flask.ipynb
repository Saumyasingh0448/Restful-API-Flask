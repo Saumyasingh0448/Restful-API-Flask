{
  "nbformat": 4,
  "nbformat_minor": 0,
  "metadata": {
    "colab": {
      "provenance": []
    },
    "kernelspec": {
      "name": "python3",
      "display_name": "Python 3"
    },
    "language_info": {
      "name": "python"
    }
  },
  "cells": [
    {
      "cell_type": "code",
      "execution_count": null,
      "metadata": {
        "id": "pgQazHWI1v-7"
      },
      "outputs": [],
      "source": [
        "1. What is a RESTful API?\n",
        "- A RESTful API is a web service that follows the principles of Representational State Transfer (REST). It allows communication between systems over HTTP using standard methods like GET, POST, PUT, and DELETE. It is stateless, meaning each request contains all the information needed for processing, and resources are accessed via URLs. RESTful APIs are widely used for their simplicity and scalability.\n",
        "\n",
        "2. Explain the concept of API specificationM\n",
        "- An API specification is a detailed document that defines how an API should behave, including the endpoints, request methods, data formats, authentication methods, and expected responses. It acts as a blueprint for developers, ensuring consistency and clarity when building or consuming an API. Common formats for API specifications include OpenAPI and Swagger.\n",
        "\n",
        "3. What is Flask, and why is it popular for building APIs?\n",
        "- Flask is a lightweight, Python-based web framework used to build web applications and APIs. It is popular for building APIs because it is simple, flexible, and easy to learn, offering the essential tools to get started without unnecessary complexity. Flask allows developers to quickly create RESTful APIs, making it a go-to choice for small to medium-sized projects and rapid prototyping. Its extensive libraries and support for various extensions further enhance its usability.\n",
        "\n",
        "4. What is routing in Flask?\n",
        "-In Flask, routing is the process of mapping a URL to a specific function. When a user visits a URL, Flask triggers the corresponding function to handle the request and return a response. This is done using the @app.route() decorator.\n",
        "\n",
        "5. How do you create a simple Flask application?\n",
        "- To create a simple Flask application:\n",
        "\n",
        "Install Flask: Use pip to install Flask.\n",
        "\n",
        "Create a Flask Instance: Initialize the Flask application using Flask(__name__).\n",
        "\n",
        "Define Routes: Use the @app.route() decorator to map URLs to functions that return responses.\n",
        "\n",
        "Run the App: Use app.run() to start the Flask development server.\n",
        "\n",
        "6. What are HTTP methods used in RESTful APIs?\n",
        "- The main HTTP methods used in RESTful APIs are:\n",
        "\n",
        "GET: Retrieves data from the server (e.g., fetching a resource or a list of resources).\n",
        "\n",
        "POST: Sends data to the server to create a new resource (e.g., submitting a form).\n",
        "\n",
        "PUT: Updates an existing resource on the server (e.g., replacing a resource's content).\n",
        "\n",
        "7. What is the purpose of the @app.route() decorator in Flask?\n",
        "- The @app.route() decorator in Flask maps a URL to a specific function, directing incoming HTTP requests to the appropriate view function in the application. It defines the route for handling requests at a specified URL.\n",
        "\n",
        "8. What is the difference between GET and POST HTTP methods?\n",
        "- The difference between GET and POST HTTP methods:\n",
        "\n",
        "GET: Retrieves data from the server. It is idempotent (does not change the server state) and can be cached or bookmarked.\n",
        "\n",
        "POST: Sends data to the server to create or modify a resource. It is non-idempotent, meaning repeated requests can change the server's state.\n",
        "\n",
        "9. How do you handle errors in Flask APIs?\n",
        "- In Flask, errors can be handled using:\n",
        "\n",
        "@app.errorhandler(): This decorator allows you to define custom error handling for specific HTTP status codes (e.g., 404 for \"Not Found\", 500 for \"Internal Server Error\").\n",
        "\n",
        "Custom error responses: You can raise custom error messages within route functions by returning an appropriate HTTP status code and message using jsonify() or other response methods.\n",
        "\n",
        "10. How do you connect Flask to a SQL database?\n",
        "                                                 - To connect Flask to a SQL database, you use an ORM like SQLAlchemy.\n",
        "\n",
        "Install Flask-SQLAlchemy: This extension simplifies the integration of SQLAlchemy with Flask.\n",
        "\n",
        "Configure the database URI: Set the database connection string in the Flask app configuration.\n",
        "\n",
        "Define models: Create Python classes to represent database tables.\n",
        "\n",
        "Interact with the database: Use SQLAlchemy to query, insert, update, and delete records.\n",
        "\n",
        "11. What is the role of Flask-SQLAlchemy?\n",
        "                                                 - Flask-SQLAlchemy is an extension for Flask that simplifies integrating SQLAlchemy, a powerful Object Relational Mapper (ORM), with Flask. It allows you to interact with SQL databases using Python objects instead of writing raw SQL queries.\n",
        "\n",
        "Key roles:\n",
        "\n",
        "Database connection: It manages the connection to the database.\n",
        "\n",
        "Model definition: It allows you to define database tables as Python classes.\n",
        "\n",
        ""
      ]
    },
    {
      "cell_type": "markdown",
      "source": [
        "11. What is the role of Flask-SQLAlchemy\n",
        "- Flask-SQLAlchemy simplifies integrating SQLAlchemy with Flask. It manages database connections, allows defining models (database tables) as Python classes, and provides easy methods for querying, adding, and modifying data. It streamlines database interactions in Flask applications.\n",
        "\n",
        "12. What are Flask blueprints, and how are they useful\n",
        "-lask Blueprints are a way to organize and structure large Flask applications by grouping related views and functions into reusable components. They allow you to break the application into smaller, manageable parts.\n",
        "\n",
        "Blueprints are useful because:\n",
        "\n",
        "Modularity: They help organize different sections of an app (e.g., authentication, admin) into separate modules.\n",
        "\n",
        "Reusability: Blueprints can be reused across multiple applications.\n",
        "\n",
        "13. What is the purpose of Flask's request object?\n",
        "- The purpose of Flask's request object is to access data from incoming HTTP requests, such as form inputs, JSON data, query parameters, and headers.\n",
        "\n",
        "14. How do you create a RESTful API endpoint using Flask\n",
        "- To create a RESTful API endpoint using Flask:\n",
        "\n",
        "Import Flask and create an app.\n",
        "\n",
        "Use @app.route() with a specific URL and HTTP method.\n",
        "\n",
        "Define a function to handle the request and return a response (usually in JSON).\n",
        "\n",
        "15. What is the purpose of Flask's jsonify() function?\n",
        "- The purpose of Flask's jsonify() function is to convert Python data (like dictionaries or lists) into a JSON response, which is the standard format for API communication. It also sets the correct Content-Type header (application/json).\n",
        "\n",
        "16. Explain Flask’s url_for() function\n",
        "-Flask’s url_for() function generates the URL for a given view (function) name. It helps create dynamic and maintainable URLs, especially when routes change.\n",
        "\n",
        "17.  How does Flask handle static files (CSS, JavaScript, etc.)\n",
        "-  How does Flask handle static files (CSS, JavaScript, etc.) short ans\n",
        "\n",
        "\n",
        "ChatGPT said:\n",
        "Flask handles static files (like CSS and JavaScript) using the static folder by default. You can access them in templates using url_for('static', filename='style.css'). Flask automatically serves files placed in the static/ directory.\n",
        "\n",
        "18. What is an API specification, and how does it help in building a Flask API?\n",
        "- An API specification is a document that defines how an API should work, including endpoints, methods, request/response formats, and authentication. It helps in building a Flask API by serving as a blueprint, ensuring consistency, clear communication between teams, and easier testing and documentation.\n",
        "\n",
        "19. What are HTTP status codes, and why are they important in a Flask API\n",
        "-HTTP status codes indicate the result of a client's request (e.g., success, error). In a Flask API, they are important because they inform the client about the outcome, aid in error handling, and ensure clear communication between client and server.\n",
        "\n",
        "20. How do you handle POST requests in Flask\n",
        "-In Flask, handle POST requests by setting methods=['POST'] in the route and accessing data with request.form or request.json.\n",
        "\n",
        "21. How would you secure a Flask API?\n",
        "- To secure a Flask API, you can:\n",
        "\n",
        "Use authentication (e.g., API keys, JWT, OAuth).\n",
        "\n",
        "Validate and sanitize input to prevent injections.\n",
        "\n",
        "Use HTTPS to encrypt data in transit.\n",
        "\n",
        "22. What is the significance of the Flask-RESTful extension?\n",
        "-The Flask-RESTful extension simplifies building RESTful APIs in Flask. It provides tools like Resource classes and built-in support for request parsing, response formatting, and HTTP methods, making API development faster, cleaner, and more organized.\n",
        "\n",
        "23.  What is the role of Flask’s session object?\n",
        "-The role of Flask’s session object is to store data across multiple requests for a specific user. It allows you to keep track of user information (like login status) between pages using secure, signed cookies.\n",
        "\n",
        "\n",
        "\n"
      ],
      "metadata": {
        "id": "4QrYeQmy4pwj"
      }
    },
    {
      "cell_type": "markdown",
      "source": [
        "# **Practical**\n",
        "\n",
        "1. How do you create a basic Flask application"
      ],
      "metadata": {
        "id": "26r3I43GQq1b"
      }
    },
    {
      "cell_type": "code",
      "source": [
        "from flask import Flask\n",
        "\n",
        "app = Flask(__name__)\n",
        "\n",
        "@app.route('/')\n",
        "def home():\n",
        "    return 'Hello, Flask!'\n",
        "\n",
        "if __name__ == '__main__':\n",
        "    app.run()\n"
      ],
      "metadata": {
        "id": "gZKPtztxQ9dY"
      },
      "execution_count": null,
      "outputs": []
    },
    {
      "cell_type": "markdown",
      "source": [
        "2. How do you serve static files like images or CSS in Flask4"
      ],
      "metadata": {
        "id": "cl2N3l1gQ-Q4"
      }
    },
    {
      "cell_type": "code",
      "source": [
        "from flask import Flask, render_template_string, url_for\n",
        "\n",
        "app = Flask(__name__)\n",
        "\n",
        "@app.route('/')\n",
        "def home():\n",
        "    css_url = url_for('static', filename='style.css')\n",
        "    return render_template_string(f'''\n",
        "        <html>\n",
        "        <head><link rel=\"stylesheet\" href=\"{css_url}\"></head>\n",
        "        <body><h1>Hello, Flask!</h1></body>\n",
        "        </html>\n",
        "    ''')\n",
        "\n",
        "if __name__ == '__main__':\n",
        "    app.run()\n"
      ],
      "metadata": {
        "id": "U4ey6xMPROOj"
      },
      "execution_count": null,
      "outputs": []
    },
    {
      "cell_type": "markdown",
      "source": [
        "3. How do you define different routes with different HTTP methods in Flask"
      ],
      "metadata": {
        "id": "G3wxpO7GRPfV"
      }
    },
    {
      "cell_type": "code",
      "source": [
        "from flask import Flask, request\n",
        "\n",
        "app = Flask(__name__)\n",
        "\n",
        "@app.route('/get-example', methods=['GET'])\n",
        "def get_example():\n",
        "    return 'This is a GET request'\n",
        "\n",
        "@app.route('/post-example', methods=['POST'])\n",
        "def post_example():\n",
        "    data = request.form.get('name')\n",
        "    return f'Posted name: {data}'\n",
        "\n",
        "if __name__ == '__main__':\n",
        "    app.run()\n"
      ],
      "metadata": {
        "id": "gpoXy09LRW80"
      },
      "execution_count": null,
      "outputs": []
    },
    {
      "cell_type": "markdown",
      "source": [
        "4. How do you render HTML templates in Flask"
      ],
      "metadata": {
        "id": "Be1OEZgBRX3U"
      }
    },
    {
      "cell_type": "code",
      "source": [
        "from flask import Flask, render_template_string\n",
        "\n",
        "app = Flask(__name__)\n",
        "\n",
        "@app.route('/')\n",
        "def home():\n",
        "    return render_template_string('''\n",
        "        <!DOCTYPE html>\n",
        "        <html>\n",
        "        <head><title>Home</title></head>\n",
        "        <body>\n",
        "            <h1>Welcome to Flask!</h1>\n",
        "        </body>\n",
        "        </html>\n",
        "    ''')\n",
        "\n",
        "if __name__ == '__main__':\n",
        "    app.run()\n"
      ],
      "metadata": {
        "id": "Oq_2BXanRixj"
      },
      "execution_count": null,
      "outputs": []
    },
    {
      "cell_type": "markdown",
      "source": [
        "5. How can you generate URLs for routes in Flask using url_for\n"
      ],
      "metadata": {
        "id": "Q8h-4NsbRxoB"
      }
    },
    {
      "cell_type": "code",
      "source": [
        "from flask import Flask, url_for, redirect\n",
        "\n",
        "app = Flask(__name__)\n",
        "\n",
        "@app.route('/')\n",
        "def home():\n",
        "    return 'Welcome to the homepage!'\n",
        "\n",
        "@app.route('/about')\n",
        "def about():\n",
        "    return 'This is the about page.'\n",
        "\n",
        "@app.route('/go-to-about')\n",
        "def go_to_about():\n",
        "    return redirect(url_for('about'))  # Generates URL for the 'about' function\n",
        "\n",
        "if __name__ == '__main__':\n",
        "    app.run()\n"
      ],
      "metadata": {
        "id": "AWWK5GgKR04u"
      },
      "execution_count": null,
      "outputs": []
    },
    {
      "cell_type": "markdown",
      "source": [
        "6.  How do you handle forms in Flask"
      ],
      "metadata": {
        "id": "S1ZvRgDpR5MJ"
      }
    },
    {
      "cell_type": "code",
      "source": [
        "from flask import Flask, request, render_template_string\n",
        "\n",
        "app = Flask(__name__)\n",
        "\n",
        "# HTML form\n",
        "form_html = '''\n",
        "<form method=\"POST\">\n",
        "  Name: <input type=\"text\" name=\"name\">\n",
        "  <input type=\"submit\" value=\"Submit\">\n",
        "</form>\n",
        "'''\n",
        "\n",
        "@app.route('/', methods=['GET', 'POST'])\n",
        "def form():\n",
        "    if request.method == 'POST':\n",
        "        name = request.form['name']\n",
        "        return f'Hello, {name}!'\n",
        "    return render_template_string(form_html)\n",
        "\n",
        "if __name__ == '__main__':\n",
        "    app.run()\n"
      ],
      "metadata": {
        "id": "2Ff1vbgjR9S_"
      },
      "execution_count": null,
      "outputs": []
    },
    {
      "cell_type": "markdown",
      "source": [
        "7. How can you validate form data in Flask"
      ],
      "metadata": {
        "id": "yxlN0D4bSBpn"
      }
    },
    {
      "cell_type": "code",
      "source": [
        "from flask import Flask, request, render_template_string\n",
        "\n",
        "app = Flask(__name__)\n",
        "\n",
        "@app.route('/', methods=['GET', 'POST'])\n",
        "def form():\n",
        "    error = ''\n",
        "    if request.method == 'POST':\n",
        "        name = request.form.get('name')\n",
        "        if not name:\n",
        "            error = 'Name is required!'\n",
        "        else:\n",
        "            return f'Hello, {name}!'\n",
        "\n",
        "    return render_template_string('''\n",
        "        <form method=\"POST\">\n",
        "            Name: <input type=\"text\" name=\"name\">\n",
        "            <input type=\"submit\" value=\"Submit\">\n",
        "        </form>\n",
        "        <p style=\"color:red;\">{{ error }}</p>\n",
        "    ''', error=error)\n",
        "\n",
        "if __name__ == '__main__':\n",
        "    app.run()\n"
      ],
      "metadata": {
        "id": "-sIKk-gnSLCK"
      },
      "execution_count": null,
      "outputs": []
    },
    {
      "cell_type": "markdown",
      "source": [
        "8.  How do you manage sessions in Flask"
      ],
      "metadata": {
        "id": "nS7DQI-KSL4u"
      }
    },
    {
      "cell_type": "code",
      "source": [
        "from flask import Flask, session, redirect, url_for, request\n",
        "\n",
        "app = Flask(__name__)\n",
        "app.secret_key = 'your_secret_key'  # Required to use sessions\n",
        "\n",
        "@app.route('/', methods=['GET', 'POST'])\n",
        "def login():\n",
        "    if request.method == 'POST':\n",
        "        session['username'] = request.form['username']\n",
        "        return redirect(url_for('profile'))\n",
        "    return '''\n",
        "        <form method=\"POST\">\n",
        "            Username: <input type=\"text\" name=\"username\">\n",
        "            <input type=\"submit\" value=\"Login\">\n",
        "        </form>\n",
        "    '''\n",
        "\n",
        "@app.route('/profile')\n",
        "def profile():\n",
        "    username = session.get('username')\n",
        "    if username:\n",
        "        return f'Welcome, {username}!'\n",
        "    return redirect(url_for('login'))\n",
        "\n",
        "@app.route('/logout')\n",
        "def logout():\n",
        "    session.pop('username', None)\n",
        "    return redirect(url_for('login'))\n",
        "\n",
        "if __name__ == '__main__':\n",
        "    app.run()\n"
      ],
      "metadata": {
        "id": "WI9dpda6SS7n"
      },
      "execution_count": null,
      "outputs": []
    },
    {
      "cell_type": "markdown",
      "source": [
        "9.  How do you redirect to a different route in Flass?"
      ],
      "metadata": {
        "id": "asPurLr9STpo"
      }
    },
    {
      "cell_type": "code",
      "source": [
        "from flask import Flask, redirect, url_for\n",
        "\n",
        "app = Flask(__name__)\n",
        "\n",
        "@app.route('/')\n",
        "def home():\n",
        "    return redirect(url_for('welcome'))\n",
        "\n",
        "@app.route('/welcome')\n",
        "def welcome():\n",
        "    return 'Welcome to Flask!'\n",
        "\n",
        "if __name__ == '__main__':\n",
        "    app.run()\n"
      ],
      "metadata": {
        "id": "ATftaxawSePS"
      },
      "execution_count": null,
      "outputs": []
    },
    {
      "cell_type": "markdown",
      "source": [
        "10. How do you handle errors in Flask (e.g., 404)"
      ],
      "metadata": {
        "id": "mdM_XZ-oSfSK"
      }
    },
    {
      "cell_type": "code",
      "source": [
        "from flask import Flask\n",
        "\n",
        "app = Flask(__name__)\n",
        "\n",
        "@app.route('/')\n",
        "def home():\n",
        "    return 'Home Page'\n",
        "\n",
        "@app.errorhandler(404)\n",
        "def page_not_found(e):\n",
        "    return 'Page not found!', 404\n",
        "\n",
        "if __name__ == '__main__':\n",
        "    app.run()\n"
      ],
      "metadata": {
        "id": "op5qXDkNSmLX"
      },
      "execution_count": null,
      "outputs": []
    },
    {
      "cell_type": "markdown",
      "source": [
        "11.  How do you structure a Flask app using Blueprints/"
      ],
      "metadata": {
        "id": "DhHDmtfASm5m"
      }
    },
    {
      "cell_type": "code",
      "source": [
        "from flask import Flask, Blueprint\n",
        "\n",
        "# Create a Blueprint\n",
        "simple_bp = Blueprint('simple', __name__)\n",
        "\n",
        "@simple_bp.route('/')\n",
        "def home():\n",
        "    return 'Hello from the Blueprint!'\n",
        "\n",
        "# Create Flask app and register the Blueprint\n",
        "app = Flask(__name__)\n",
        "app.register_blueprint(simple_bp)\n",
        "\n",
        "if __name__ == '__main__':\n",
        "    app.run()\n"
      ],
      "metadata": {
        "id": "9eAiBXmGSr01"
      },
      "execution_count": null,
      "outputs": []
    },
    {
      "cell_type": "markdown",
      "source": [
        "12. How do you define a custom Jinja filter in Flask"
      ],
      "metadata": {
        "id": "vgUmJ5ZrS1dz"
      }
    },
    {
      "cell_type": "code",
      "source": [
        "from flask import Flask, render_template_string\n",
        "\n",
        "app = Flask(__name__)\n",
        "\n",
        "# Define a custom Jinja filter\n",
        "@app.template_filter('reverse')\n",
        "def reverse_filter(s):\n",
        "    return s[::-1]\n",
        "\n",
        "@app.route('/')\n",
        "def index():\n",
        "    return render_template_string(\"Reversed: {{ 'Flask' | reverse }}\")\n",
        "\n",
        "if __name__ == '__main__':\n",
        "    app.run()\n"
      ],
      "metadata": {
        "id": "wep_j1UtTEXg"
      },
      "execution_count": null,
      "outputs": []
    },
    {
      "cell_type": "markdown",
      "source": [
        "13. How can you redirect with query parameters in Flask"
      ],
      "metadata": {
        "id": "bHIc0IBqTFXn"
      }
    },
    {
      "cell_type": "code",
      "source": [
        "from flask import Flask, redirect, url_for, request\n",
        "\n",
        "app = Flask(__name__)\n",
        "\n",
        "@app.route('/')\n",
        "def index():\n",
        "    # Redirect to /greet with query parameter name=John\n",
        "    return redirect(url_for('greet', name='John'))\n",
        "\n",
        "@app.route('/greet')\n",
        "def greet():\n",
        "    name = request.args.get('name', 'Guest')\n",
        "    return f'Hello, {name}!'\n",
        "\n",
        "if __name__ == '__main__':\n",
        "    app.run()\n"
      ],
      "metadata": {
        "id": "UpXRFjwMTLjm"
      },
      "execution_count": null,
      "outputs": []
    },
    {
      "cell_type": "markdown",
      "source": [
        "14. How do you return JSON responses in Flask"
      ],
      "metadata": {
        "id": "RU50f2ScTMXb"
      }
    },
    {
      "cell_type": "code",
      "source": [
        "from flask import Flask, jsonify\n",
        "\n",
        "app = Flask(__name__)\n",
        "\n",
        "@app.route('/api')\n",
        "def api():\n",
        "    data = {\"message\": \"Hello, JSON!\"}\n",
        "    return jsonify(data)\n",
        "\n",
        "if __name__ == '__main__':\n",
        "    app.run()\n"
      ],
      "metadata": {
        "id": "raqdgrWVTSmz"
      },
      "execution_count": null,
      "outputs": []
    },
    {
      "cell_type": "markdown",
      "source": [
        "How do you capture URL parameters in Flask?"
      ],
      "metadata": {
        "id": "NbnM_qunTUpt"
      }
    },
    {
      "cell_type": "code",
      "source": [
        "from flask import Flask\n",
        "\n",
        "app = Flask(__name__)\n",
        "\n",
        "@app.route('/user/<username>')\n",
        "def show_user(username):\n",
        "    return f'Hello, {username}!'\n",
        "\n",
        "if __name__ == '__main__':\n",
        "    app.run()\n"
      ],
      "metadata": {
        "id": "KmEyHCGKTYwQ"
      },
      "execution_count": null,
      "outputs": []
    }
  ]
}